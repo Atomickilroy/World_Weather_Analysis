{
 "cells": [
  {
   "cell_type": "code",
   "execution_count": 1,
   "id": "641cd9d4",
   "metadata": {},
   "outputs": [],
   "source": [
    "import random"
   ]
  },
  {
   "cell_type": "code",
   "execution_count": 47,
   "id": "1423c200",
   "metadata": {},
   "outputs": [
    {
     "data": {
      "text/plain": [
       "0.14545125602502051"
      ]
     },
     "execution_count": 47,
     "metadata": {},
     "output_type": "execute_result"
    }
   ],
   "source": [
    "random.random()"
   ]
  },
  {
   "cell_type": "code",
   "execution_count": 48,
   "id": "5dd877fd",
   "metadata": {},
   "outputs": [
    {
     "data": {
      "text/plain": [
       "5"
      ]
     },
     "execution_count": 48,
     "metadata": {},
     "output_type": "execute_result"
    }
   ],
   "source": [
    "random.randint(-90,90)"
   ]
  },
  {
   "cell_type": "code",
   "execution_count": 49,
   "id": "532eacf6",
   "metadata": {},
   "outputs": [
    {
     "data": {
      "text/plain": [
       "0.3296793344621236"
      ]
     },
     "execution_count": 49,
     "metadata": {},
     "output_type": "execute_result"
    }
   ],
   "source": [
    "random.random()"
   ]
  },
  {
   "cell_type": "code",
   "execution_count": 50,
   "id": "c24dcf5a",
   "metadata": {},
   "outputs": [
    {
     "data": {
      "text/plain": [
       "9.144676829933587"
      ]
     },
     "execution_count": 50,
     "metadata": {},
     "output_type": "execute_result"
    }
   ],
   "source": [
    "random_number= random.randint(-90,89) + random.random()\n",
    "random_number"
   ]
  },
  {
   "cell_type": "code",
   "execution_count": 54,
   "id": "d75d8111",
   "metadata": {},
   "outputs": [
    {
     "name": "stdout",
     "output_type": "stream",
     "text": [
      "[13.201523703039731]\n",
      "[13.201523703039731, 87.85435420655367]\n",
      "[13.201523703039731, 87.85435420655367, -77.52610134723781]\n",
      "[13.201523703039731, 87.85435420655367, -77.52610134723781, 6.478715033996876]\n",
      "[13.201523703039731, 87.85435420655367, -77.52610134723781, 6.478715033996876, 73.12942942354145]\n",
      "[13.201523703039731, 87.85435420655367, -77.52610134723781, 6.478715033996876, 73.12942942354145, 20.70211554614801]\n",
      "[13.201523703039731, 87.85435420655367, -77.52610134723781, 6.478715033996876, 73.12942942354145, 20.70211554614801, 41.13337571018029]\n",
      "[13.201523703039731, 87.85435420655367, -77.52610134723781, 6.478715033996876, 73.12942942354145, 20.70211554614801, 41.13337571018029, 27.95558931922912]\n",
      "[13.201523703039731, 87.85435420655367, -77.52610134723781, 6.478715033996876, 73.12942942354145, 20.70211554614801, 41.13337571018029, 27.95558931922912, 61.074116743155976]\n",
      "[13.201523703039731, 87.85435420655367, -77.52610134723781, 6.478715033996876, 73.12942942354145, 20.70211554614801, 41.13337571018029, 27.95558931922912, 61.074116743155976, -24.382224826160506]\n"
     ]
    }
   ],
   "source": [
    "# Assign the variable\n",
    "x=1\n",
    "\n",
    "#i nitialize an empty list\n",
    "latitudes = []\n",
    "\n",
    "#create a while loop where we generate a random latitude and add it to the list\n",
    "\n",
    "while x < 11:\n",
    "    \n",
    "    random_lat = random.randint(-90,89) + random.random()\n",
    "    \n",
    "    latitudes.append(random_lat)\n",
    "    \n",
    "    x += 1\n",
    "    \n",
    "    \n",
    "    # Then we add one to the variable \"x\"    \n",
    "    #while loop condition is checked again it will continue to run as long as x is less than 11\n",
    "  \n",
    "    print(latitudes)"
   ]
  },
  {
   "cell_type": "code",
   "execution_count": null,
   "id": "264ec9d8",
   "metadata": {},
   "outputs": [],
   "source": []
  },
  {
   "cell_type": "code",
   "execution_count": 55,
   "id": "116e462a",
   "metadata": {},
   "outputs": [],
   "source": [
    "#randrange()Function"
   ]
  },
  {
   "cell_type": "code",
   "execution_count": 59,
   "id": "2357065f",
   "metadata": {},
   "outputs": [
    {
     "data": {
      "text/plain": [
       "-69"
      ]
     },
     "execution_count": 59,
     "metadata": {},
     "output_type": "execute_result"
    }
   ],
   "source": [
    "random.randrange(-90,90, step=1)"
   ]
  },
  {
   "cell_type": "code",
   "execution_count": 62,
   "id": "c410b802",
   "metadata": {},
   "outputs": [
    {
     "data": {
      "text/plain": [
       "39"
      ]
     },
     "execution_count": 62,
     "metadata": {},
     "output_type": "execute_result"
    }
   ],
   "source": [
    "random.randrange(-90,90, step=3)"
   ]
  },
  {
   "cell_type": "code",
   "execution_count": null,
   "id": "a231ee73",
   "metadata": {},
   "outputs": [],
   "source": []
  },
  {
   "cell_type": "code",
   "execution_count": 61,
   "id": "88e647a1",
   "metadata": {},
   "outputs": [],
   "source": [
    "for i in range(500):\n",
    "    i= random.randrange(-5,15)\n",
    "    #print(i)"
   ]
  },
  {
   "cell_type": "code",
   "execution_count": 63,
   "id": "6f91d88c",
   "metadata": {},
   "outputs": [
    {
     "data": {
      "text/plain": [
       "-72.39530528500958"
      ]
     },
     "execution_count": 63,
     "metadata": {},
     "output_type": "execute_result"
    }
   ],
   "source": [
    "random.uniform(-90,90)"
   ]
  },
  {
   "cell_type": "code",
   "execution_count": 64,
   "id": "6fd1d944",
   "metadata": {},
   "outputs": [],
   "source": [
    "import numpy as np"
   ]
  },
  {
   "cell_type": "code",
   "execution_count": 65,
   "id": "bbed0488",
   "metadata": {},
   "outputs": [
    {
     "data": {
      "text/plain": [
       "40.86011562775602"
      ]
     },
     "execution_count": 65,
     "metadata": {},
     "output_type": "execute_result"
    }
   ],
   "source": [
    "np.random.uniform(-90.000, 90.000)"
   ]
  },
  {
   "cell_type": "code",
   "execution_count": 66,
   "id": "678672ff",
   "metadata": {},
   "outputs": [
    {
     "data": {
      "text/plain": [
       "32.28135830512112"
      ]
     },
     "execution_count": 66,
     "metadata": {},
     "output_type": "execute_result"
    }
   ],
   "source": [
    "np.random.uniform(low= -90 , high= 90)"
   ]
  },
  {
   "cell_type": "code",
   "execution_count": 69,
   "id": "c985cbb8",
   "metadata": {},
   "outputs": [
    {
     "name": "stdout",
     "output_type": "stream",
     "text": [
      "4.87 µs ± 354 ns per loop (mean ± std. dev. of 7 runs, 100000 loops each)\n"
     ]
    }
   ],
   "source": [
    "%timeit np.random.uniform( low = -90 , high = 90, size =50)"
   ]
  },
  {
   "cell_type": "code",
   "execution_count": 68,
   "id": "427066ec",
   "metadata": {},
   "outputs": [],
   "source": [
    "#import timeit\n",
    "\n",
    "import timeit"
   ]
  },
  {
   "cell_type": "code",
   "execution_count": 72,
   "id": "d097c752",
   "metadata": {},
   "outputs": [
    {
     "name": "stdout",
     "output_type": "stream",
     "text": [
      "1.96 µs ± 47.9 ns per loop (mean ± std. dev. of 7 runs, 1000000 loops each)\n"
     ]
    }
   ],
   "source": [
    "def latitudes(size):\n",
    "    \n",
    "    latitudes=[]\n",
    "    \n",
    "    x =0\n",
    "    \n",
    "    while x <= (size):\n",
    "        \n",
    "        random_lat = random.randint(-90,90) + random.random()\n",
    "        \n",
    "        latitudes.append(random_lat)\n",
    "        \n",
    "        x += 1\n",
    "        \n",
    "        return latitudes\n",
    "    \n",
    "#Call the function with 1500\n",
    "\n",
    "%timeit latitudes(1500)"
   ]
  },
  {
   "cell_type": "code",
   "execution_count": null,
   "id": "5bb5db5b",
   "metadata": {},
   "outputs": [],
   "source": []
  },
  {
   "cell_type": "code",
   "execution_count": null,
   "id": "0ac53973",
   "metadata": {},
   "outputs": [],
   "source": [
    "# 6.1.4 Skill Drill Refactor code above with a for loop"
   ]
  },
  {
   "cell_type": "code",
   "execution_count": 74,
   "id": "e999838a",
   "metadata": {},
   "outputs": [
    {
     "name": "stdout",
     "output_type": "stream",
     "text": [
      "911 ns ± 18.7 ns per loop (mean ± std. dev. of 7 runs, 1000000 loops each)\n"
     ]
    }
   ],
   "source": [
    "def latitudes(size):\n",
    "    \n",
    "    latitudes=[]\n",
    "    \n",
    "    for i in range(size):\n",
    "        \n",
    "        i= random.uniform(-90,90)\n",
    "        \n",
    "        latitudes.append(i)\n",
    "        \n",
    "        return latitudes\n",
    "          \n",
    "%timeit latitudes(1500)       \n"
   ]
  },
  {
   "cell_type": "code",
   "execution_count": null,
   "id": "305f2a0f",
   "metadata": {},
   "outputs": [],
   "source": []
  }
 ],
 "metadata": {
  "kernelspec": {
   "display_name": "Python 3 (ipykernel)",
   "language": "python",
   "name": "python3"
  },
  "language_info": {
   "codemirror_mode": {
    "name": "ipython",
    "version": 3
   },
   "file_extension": ".py",
   "mimetype": "text/x-python",
   "name": "python",
   "nbconvert_exporter": "python",
   "pygments_lexer": "ipython3",
   "version": "3.7.13"
  }
 },
 "nbformat": 4,
 "nbformat_minor": 5
}
