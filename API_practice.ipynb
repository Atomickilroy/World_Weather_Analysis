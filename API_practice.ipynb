{
 "cells": [
  {
   "cell_type": "code",
   "execution_count": 1,
   "id": "2bd64a46",
   "metadata": {},
   "outputs": [],
   "source": [
    "# Import the dependencies.\n",
    "\n",
    "import pandas as pd\n",
    "import matplotlib.pyplot as plt\n",
    "import numpy as np"
   ]
  },
  {
   "cell_type": "code",
   "execution_count": 2,
   "id": "9409888f",
   "metadata": {},
   "outputs": [],
   "source": [
    "# Create a practice set of random latitude and longitude combinations.\n",
    "\n",
    "lats = [25.12903645, 25.92017388, 26.62509167, -59.98969384, 37.30571269]\n",
    "lngs = [-67.59741259, 11.09532135, 74.84233102, -76.89176677, -61.13376282]\n",
    "\n",
    "lat_lngs = zip(lats, lngs)"
   ]
  },
  {
   "cell_type": "code",
   "execution_count": 3,
   "id": "7fa33180",
   "metadata": {},
   "outputs": [],
   "source": [
    "# Add the latitudes and longitudes to a list.\n",
    "\n",
    "coordinates = list(lat_lngs)"
   ]
  },
  {
   "cell_type": "code",
   "execution_count": null,
   "id": "2fec82aa",
   "metadata": {},
   "outputs": [],
   "source": []
  },
  {
   "cell_type": "code",
   "execution_count": 4,
   "id": "100a14ce",
   "metadata": {},
   "outputs": [],
   "source": [
    "# Warning  you can only unzip a zipped tuple once before it is removed from the computer's memory.\n",
    "\n",
    "#Make sure you unzip the latitudes and longitudes into the coordinates list before moving on."
   ]
  },
  {
   "cell_type": "code",
   "execution_count": null,
   "id": "85edae7e",
   "metadata": {},
   "outputs": [],
   "source": []
  },
  {
   "cell_type": "code",
   "execution_count": 5,
   "id": "aa96dc10",
   "metadata": {},
   "outputs": [
    {
     "name": "stdout",
     "output_type": "stream",
     "text": [
      "25.12903645 -67.59741259\n",
      "25.92017388 11.09532135\n",
      "26.62509167 74.84233102\n",
      "-59.98969384 -76.89176677\n",
      "37.30571269 -61.13376282\n"
     ]
    }
   ],
   "source": [
    "# Use the print() function to display the latitude and longitude combinations.\n",
    "\n",
    "for coordinate in coordinates:\n",
    "    \n",
    "    print(coordinate[0], coordinate[1])"
   ]
  },
  {
   "cell_type": "code",
   "execution_count": null,
   "id": "2c8e3bb8",
   "metadata": {},
   "outputs": [],
   "source": []
  },
  {
   "cell_type": "code",
   "execution_count": 6,
   "id": "a8e14bd3",
   "metadata": {},
   "outputs": [],
   "source": [
    "#6.1.5 "
   ]
  },
  {
   "cell_type": "code",
   "execution_count": 7,
   "id": "c96cc5c9",
   "metadata": {},
   "outputs": [],
   "source": [
    "# Using the citipy module to determine city based on latitude and longitude \n",
    "\n",
    "from citipy import citipy\n",
    "import pandas as pd\n",
    "import matplotlib.pyplot as plt\n",
    "import numpy as np"
   ]
  },
  {
   "cell_type": "code",
   "execution_count": 8,
   "id": "b62d767a",
   "metadata": {},
   "outputs": [],
   "source": [
    "lats = [25.12903645, 25.92017388, 26.62509167, -59.98969384, 37.30571269]\n",
    "lngs = [-67.59741259, 11.09532135, 74.84233102, -76.89176677, -61.13376282]\n",
    "\n",
    "lat_lngs = zip(lats, lngs)"
   ]
  },
  {
   "cell_type": "code",
   "execution_count": 9,
   "id": "927c1381",
   "metadata": {},
   "outputs": [],
   "source": [
    "# Add the latitudes and longitudes to a list.\n",
    "\n",
    "coordinates = list(lat_lngs)"
   ]
  },
  {
   "cell_type": "code",
   "execution_count": null,
   "id": "38f571db",
   "metadata": {},
   "outputs": [],
   "source": []
  },
  {
   "cell_type": "code",
   "execution_count": 10,
   "id": "40f8991f",
   "metadata": {},
   "outputs": [
    {
     "name": "stdout",
     "output_type": "stream",
     "text": [
      "cockburn town tc\n",
      "gat ly\n",
      "parvatsar in\n",
      "punta arenas cl\n",
      "saint george bm\n"
     ]
    }
   ],
   "source": [
    "# Use the print() function to display the latitude and longitude combinations.\n",
    "\n",
    "for coordinate in coordinates:\n",
    "    \n",
    "    print(citipy.nearest_city(coordinate[0], coordinate[1]).city_name,\n",
    "          \n",
    "          citipy.nearest_city(coordinate[0], coordinate[1]).country_code)"
   ]
  },
  {
   "cell_type": "code",
   "execution_count": null,
   "id": "d13ce465",
   "metadata": {},
   "outputs": [],
   "source": []
  },
  {
   "cell_type": "code",
   "execution_count": 11,
   "id": "52990950",
   "metadata": {},
   "outputs": [],
   "source": [
    "#6.2.3 API Tutorial"
   ]
  },
  {
   "cell_type": "code",
   "execution_count": null,
   "id": "dfd4835f",
   "metadata": {},
   "outputs": [],
   "source": []
  },
  {
   "cell_type": "code",
   "execution_count": 12,
   "id": "437dc424",
   "metadata": {},
   "outputs": [],
   "source": [
    "#Import Requests Library and API key\n",
    "\n",
    "import requests\n",
    "\n",
    "#Import API Key\n",
    "\n",
    "from config import weather_api_key"
   ]
  },
  {
   "cell_type": "code",
   "execution_count": 13,
   "id": "36149e36",
   "metadata": {},
   "outputs": [],
   "source": [
    "# Start URL for Weather Map API Call\n",
    "\n",
    "url= \"https://api.openweathermap.org/data/2.5/weather?units=Imperial&APPID=\" + weather_api_key\n",
    "    "
   ]
  },
  {
   "cell_type": "code",
   "execution_count": 14,
   "id": "f28afda7",
   "metadata": {},
   "outputs": [],
   "source": [
    "#Once you print out your URL, be sure to delete your printed URL from your notebook. \n",
    "#This prevents your private API key from being stored in plain text."
   ]
  },
  {
   "cell_type": "code",
   "execution_count": 15,
   "id": "af7f3711",
   "metadata": {},
   "outputs": [
    {
     "name": "stdout",
     "output_type": "stream",
     "text": [
      "https://api.openweathermap.org/data/2.5/weather?units=Imperial&APPID=e006e8562a1c3f60cfc5a379cb7d597b&q=Boston\n"
     ]
    }
   ],
   "source": [
    "#Create and endpoint URL for a city\n",
    "\n",
    "city_url =url + \"&q=\" + \"Boston\"\n",
    "\n",
    "print(city_url)"
   ]
  },
  {
   "cell_type": "code",
   "execution_count": 16,
   "id": "00813844",
   "metadata": {},
   "outputs": [],
   "source": [
    "#6.2.4 Make a Request for Data to and API\n",
    "\n",
    "#checking to see if you can retrieve the JSON data and display it in your Jupyter Notebook"
   ]
  },
  {
   "cell_type": "code",
   "execution_count": 17,
   "id": "e275b943",
   "metadata": {},
   "outputs": [
    {
     "data": {
      "text/plain": [
       "<Response [200]>"
      ]
     },
     "execution_count": 17,
     "metadata": {},
     "output_type": "execute_result"
    }
   ],
   "source": [
    "# Make a 'Get' request for the city_weather for the Request Library\n",
    "\n",
    "city_weather = requests.get(city_url)\n",
    "\n",
    "city_weather"
   ]
  },
  {
   "cell_type": "code",
   "execution_count": 18,
   "id": "7dc5c6fb",
   "metadata": {},
   "outputs": [
    {
     "data": {
      "text/plain": [
       "200"
      ]
     },
     "execution_count": 18,
     "metadata": {},
     "output_type": "execute_result"
    }
   ],
   "source": [
    "#Or use the status_code chain method \n",
    "\n",
    "city_weather.status_code"
   ]
  },
  {
   "cell_type": "code",
   "execution_count": 19,
   "id": "f1899bb6",
   "metadata": {},
   "outputs": [
    {
     "data": {
      "text/plain": [
       "<Response [404]>"
      ]
     },
     "execution_count": 19,
     "metadata": {},
     "output_type": "execute_result"
    }
   ],
   "source": [
    "# Create an endpoint URL for a city.\n",
    "\n",
    "city_url = url + \"&q=\" + \"Bston\"\n",
    "\n",
    "city_weather = requests.get(city_url)\n",
    "\n",
    "city_weather"
   ]
  },
  {
   "cell_type": "code",
   "execution_count": null,
   "id": "47e6d70b",
   "metadata": {},
   "outputs": [],
   "source": []
  },
  {
   "cell_type": "code",
   "execution_count": 20,
   "id": "dbc51595",
   "metadata": {},
   "outputs": [],
   "source": [
    "# Get Data from Response "
   ]
  },
  {
   "cell_type": "code",
   "execution_count": 21,
   "id": "7f10fdec",
   "metadata": {},
   "outputs": [
    {
     "data": {
      "text/plain": [
       "<Response [200]>"
      ]
     },
     "execution_count": 21,
     "metadata": {},
     "output_type": "execute_result"
    }
   ],
   "source": [
    "#Create and endpoint URL for a city\n",
    "\n",
    "city_url =url + \"&q=\" + \"Boston\"\n",
    "\n",
    "city_weather = requests.get(city_url)\n",
    "\n",
    "city_weather"
   ]
  },
  {
   "cell_type": "code",
   "execution_count": 22,
   "id": "c5a0a88b",
   "metadata": {},
   "outputs": [],
   "source": [
    "# We can decide select the format to get the data into a useful format to parse"
   ]
  },
  {
   "cell_type": "code",
   "execution_count": 23,
   "id": "eefbd125",
   "metadata": {},
   "outputs": [
    {
     "data": {
      "text/plain": [
       "'{\"coord\":{\"lon\":-71.0598,\"lat\":42.3584},\"weather\":[{\"id\":801,\"main\":\"Clouds\",\"description\":\"few clouds\",\"icon\":\"02d\"}],\"base\":\"stations\",\"main\":{\"temp\":90.05,\"feels_like\":93.81,\"temp_min\":87.17,\"temp_max\":92.82,\"pressure\":1003,\"humidity\":48},\"visibility\":10000,\"wind\":{\"speed\":18.41,\"deg\":290,\"gust\":24.16},\"clouds\":{\"all\":20},\"dt\":1658252639,\"sys\":{\"type\":1,\"id\":3486,\"country\":\"US\",\"sunrise\":1658222643,\"sunset\":1658276198},\"timezone\":-14400,\"id\":4930956,\"name\":\"Boston\",\"cod\":200}'"
      ]
     },
     "execution_count": 23,
     "metadata": {},
     "output_type": "execute_result"
    }
   ],
   "source": [
    "# Get the txt of the \"Get\" request\n",
    "\n",
    "city_weather.text"
   ]
  },
  {
   "cell_type": "code",
   "execution_count": 24,
   "id": "3b09bb67",
   "metadata": {},
   "outputs": [],
   "source": [
    "#The text in the output is a dictionary of dictionaries and arrays, or a JSON file"
   ]
  },
  {
   "cell_type": "code",
   "execution_count": 25,
   "id": "038febe9",
   "metadata": {},
   "outputs": [
    {
     "data": {
      "text/plain": [
       "{'coord': {'lon': -71.0598, 'lat': 42.3584},\n",
       " 'weather': [{'id': 801,\n",
       "   'main': 'Clouds',\n",
       "   'description': 'few clouds',\n",
       "   'icon': '02d'}],\n",
       " 'base': 'stations',\n",
       " 'main': {'temp': 90.05,\n",
       "  'feels_like': 93.81,\n",
       "  'temp_min': 87.17,\n",
       "  'temp_max': 92.82,\n",
       "  'pressure': 1003,\n",
       "  'humidity': 48},\n",
       " 'visibility': 10000,\n",
       " 'wind': {'speed': 18.41, 'deg': 290, 'gust': 24.16},\n",
       " 'clouds': {'all': 20},\n",
       " 'dt': 1658252639,\n",
       " 'sys': {'type': 1,\n",
       "  'id': 3486,\n",
       "  'country': 'US',\n",
       "  'sunrise': 1658222643,\n",
       "  'sunset': 1658276198},\n",
       " 'timezone': -14400,\n",
       " 'id': 4930956,\n",
       " 'name': 'Boston',\n",
       " 'cod': 200}"
      ]
     },
     "execution_count": 25,
     "metadata": {},
     "output_type": "execute_result"
    }
   ],
   "source": [
    "# Get the JSON text of the 'Get' request\n",
    "\n",
    "city_weather.json()"
   ]
  },
  {
   "cell_type": "code",
   "execution_count": 26,
   "id": "37a48bed",
   "metadata": {},
   "outputs": [],
   "source": [
    "#With the JSON method, it is a lot easier to see the overall structure of the data, \n",
    "#which will make it easier to retrieve data such as temperature and humidity."
   ]
  },
  {
   "cell_type": "code",
   "execution_count": null,
   "id": "e6fc1c36",
   "metadata": {},
   "outputs": [],
   "source": []
  },
  {
   "cell_type": "code",
   "execution_count": 27,
   "id": "6aabd523",
   "metadata": {},
   "outputs": [],
   "source": [
    "# Handle Request Error"
   ]
  },
  {
   "cell_type": "code",
   "execution_count": 28,
   "id": "8c43af27",
   "metadata": {},
   "outputs": [
    {
     "name": "stdout",
     "output_type": "stream",
     "text": [
      "City Weather found.\n"
     ]
    }
   ],
   "source": [
    "#Create and endpoint URL for a city\n",
    "\n",
    "city_url =url + \"&q=\" + \"Boston\"\n",
    "\n",
    "city_weather = requests.get(city_url)\n",
    "\n",
    "if city_weather.status_code == 200:\n",
    "    print(f\"City Weather found.\")\n",
    "else:\n",
    "    print(f\"Nope. City Weather not found.\")"
   ]
  },
  {
   "cell_type": "code",
   "execution_count": 29,
   "id": "8d7ebbf2",
   "metadata": {},
   "outputs": [
    {
     "name": "stdout",
     "output_type": "stream",
     "text": [
      "Nope. City Weather not found.\n"
     ]
    }
   ],
   "source": [
    "#Create and endpoint URL for a city\n",
    "\n",
    "city_url =url + \"&q=\" + \"Bston\"\n",
    "\n",
    "city_weather = requests.get(city_url)\n",
    "\n",
    "if city_weather.status_code == 200:\n",
    "    print(f\"City Weather found.\")\n",
    "else:\n",
    "    print(f\"Nope. City Weather not found.\")"
   ]
  },
  {
   "cell_type": "code",
   "execution_count": null,
   "id": "2b96b0ed",
   "metadata": {},
   "outputs": [],
   "source": []
  },
  {
   "cell_type": "code",
   "execution_count": 30,
   "id": "2956b29a",
   "metadata": {},
   "outputs": [],
   "source": [
    "#6.2.5 Parse a Response from the API\n",
    "\n",
    "# Now you can confidently start mining the JSON file\n",
    "#to retrieve specific weather data for each city and add it to a DataFrame."
   ]
  },
  {
   "cell_type": "code",
   "execution_count": 31,
   "id": "1dda524e",
   "metadata": {},
   "outputs": [],
   "source": [
    "# Collect the JSON for our Boston End POINT"
   ]
  },
  {
   "cell_type": "code",
   "execution_count": 32,
   "id": "f412e062",
   "metadata": {},
   "outputs": [
    {
     "data": {
      "text/plain": [
       "{'coord': {'lon': -71.0598, 'lat': 42.3584},\n",
       " 'weather': [{'id': 801,\n",
       "   'main': 'Clouds',\n",
       "   'description': 'few clouds',\n",
       "   'icon': '02d'}],\n",
       " 'base': 'stations',\n",
       " 'main': {'temp': 90.05,\n",
       "  'feels_like': 93.81,\n",
       "  'temp_min': 87.17,\n",
       "  'temp_max': 92.82,\n",
       "  'pressure': 1003,\n",
       "  'humidity': 48},\n",
       " 'visibility': 10000,\n",
       " 'wind': {'speed': 18.41, 'deg': 290, 'gust': 24.16},\n",
       " 'clouds': {'all': 20},\n",
       " 'dt': 1658252639,\n",
       " 'sys': {'type': 1,\n",
       "  'id': 3486,\n",
       "  'country': 'US',\n",
       "  'sunrise': 1658222643,\n",
       "  'sunset': 1658276198},\n",
       " 'timezone': -14400,\n",
       " 'id': 4930956,\n",
       " 'name': 'Boston',\n",
       " 'cod': 200}"
      ]
     },
     "execution_count": 32,
     "metadata": {},
     "output_type": "execute_result"
    }
   ],
   "source": [
    "#Create and endpoint URL for a city\n",
    "\n",
    "city_url =url + \"&q=\" + \"Boston\"\n",
    "\n",
    "city_weather = requests.get(city_url)\n",
    "\n",
    "city_weather.json()"
   ]
  },
  {
   "cell_type": "code",
   "execution_count": 33,
   "id": "68a9fa69",
   "metadata": {},
   "outputs": [],
   "source": [
    "#Assign this city_weather data to a varible\n",
    "\n",
    "boston_data = city_weather.json()"
   ]
  },
  {
   "cell_type": "code",
   "execution_count": 34,
   "id": "69cc3051",
   "metadata": {},
   "outputs": [
    {
     "data": {
      "text/plain": [
       "[{'id': 801, 'main': 'Clouds', 'description': 'few clouds', 'icon': '02d'}]"
      ]
     },
     "execution_count": 34,
     "metadata": {},
     "output_type": "execute_result"
    }
   ],
   "source": [
    "# USING the sys key to get the corresponding data use\n",
    "\n",
    "dtype=boston_data['weather']\n",
    "dtype"
   ]
  },
  {
   "cell_type": "code",
   "execution_count": 36,
   "id": "bf8f611d",
   "metadata": {},
   "outputs": [
    {
     "data": {
      "text/plain": [
       "'Clouds'"
      ]
     },
     "execution_count": 36,
     "metadata": {},
     "output_type": "execute_result"
    }
   ],
   "source": [
    "boston_data[\"weather\"][0][\"main\"]"
   ]
  },
  {
   "cell_type": "markdown",
   "id": "eddd38fd",
   "metadata": {},
   "source": [
    "#Also be more pin pointed by add after the first key\n",
    "\n",
    "bosto"
   ]
  },
  {
   "cell_type": "code",
   "execution_count": null,
   "id": "d152af74",
   "metadata": {},
   "outputs": [],
   "source": [
    "boston_data['weather']['main']"
   ]
  },
  {
   "cell_type": "code",
   "execution_count": null,
   "id": "a6547475",
   "metadata": {},
   "outputs": [],
   "source": [
    "#Using similar syntax we can also get\n",
    "\n",
    "lat = boston_data[\"coord\"][\"lat\"]\n",
    "\n",
    "lng = boston_data[\"coord\"][\"lon\"]\n",
    "\n",
    "max_temp = boston_data[\"main\"][\"temp_max\"]\n",
    "\n",
    "humidity = boston_data[\"main\"][\"humidity\"]\n",
    "\n",
    "clouds = boston_data[\"clouds\"][\"all\"]\n",
    "\n",
    "wind = boston_data[\"wind\"][\"speed\"]\n",
    "\n",
    "print(lat, lng, max_temp, humidity, clouds, wind)"
   ]
  },
  {
   "cell_type": "code",
   "execution_count": null,
   "id": "9137beda",
   "metadata": {},
   "outputs": [],
   "source": []
  },
  {
   "cell_type": "code",
   "execution_count": null,
   "id": "c7892091",
   "metadata": {},
   "outputs": [],
   "source": [
    "# Convert the Date Timestamp"
   ]
  },
  {
   "cell_type": "code",
   "execution_count": null,
   "id": "aa0b9358",
   "metadata": {},
   "outputs": [],
   "source": [
    "boston_data['dt']"
   ]
  },
  {
   "cell_type": "code",
   "execution_count": null,
   "id": "65f512b6",
   "metadata": {},
   "outputs": [],
   "source": [
    "# Import the datetime module from the datetime library.\n",
    "\n",
    "from datetime import datetime\n",
    "\n",
    "# Get the date from the JSON file.\n",
    "\n",
    "date = boston_data[\"dt\"]\n",
    "\n",
    "# Convert the UTC date to a date format with year, month, day, hours, minutes, and seconds.\n",
    "\n",
    "datetime.utcfromtimestamp(date)"
   ]
  },
  {
   "cell_type": "code",
   "execution_count": null,
   "id": "f0c79047",
   "metadata": {},
   "outputs": [],
   "source": [
    "# Add the Python string format method to the end of the datetime.utc\n",
    "\n",
    "datetime.utcfromtimestamp(date).strftime('%Y-%m-%d %H:%M:%S')"
   ]
  },
  {
   "cell_type": "code",
   "execution_count": null,
   "id": "1ffb0cae",
   "metadata": {},
   "outputs": [],
   "source": []
  },
  {
   "cell_type": "code",
   "execution_count": null,
   "id": "b9658cc1",
   "metadata": {},
   "outputs": [],
   "source": [
    "#6.2.6 Get Weather Data \n",
    "#Revert back to WeatherPy"
   ]
  },
  {
   "cell_type": "code",
   "execution_count": null,
   "id": "8a6fa2c7",
   "metadata": {},
   "outputs": [],
   "source": [
    "#6.3.1"
   ]
  },
  {
   "cell_type": "code",
   "execution_count": null,
   "id": "0580db1e",
   "metadata": {},
   "outputs": [],
   "source": [
    "# Import the time module\n",
    "\n",
    "import time\n",
    "\n",
    "#Get today's date in seconds\n",
    "\n",
    "today = time.time()\n",
    "\n",
    "today"
   ]
  },
  {
   "cell_type": "code",
   "execution_count": null,
   "id": "393e9dba",
   "metadata": {},
   "outputs": [],
   "source": [
    "#Convert using the string format method\n",
    "\n",
    "today = time.strftime( \"%x\" )\n",
    "today"
   ]
  },
  {
   "cell_type": "code",
   "execution_count": null,
   "id": "2b23ad31",
   "metadata": {},
   "outputs": [],
   "source": []
  },
  {
   "cell_type": "code",
   "execution_count": null,
   "id": "534f9a81",
   "metadata": {},
   "outputs": [],
   "source": []
  },
  {
   "cell_type": "code",
   "execution_count": null,
   "id": "b7f74167",
   "metadata": {},
   "outputs": [],
   "source": []
  },
  {
   "cell_type": "code",
   "execution_count": null,
   "id": "0531a8ab",
   "metadata": {},
   "outputs": [],
   "source": []
  },
  {
   "cell_type": "code",
   "execution_count": null,
   "id": "143dafbb",
   "metadata": {},
   "outputs": [],
   "source": []
  }
 ],
 "metadata": {
  "kernelspec": {
   "display_name": "Python 3 (ipykernel)",
   "language": "python",
   "name": "python3"
  },
  "language_info": {
   "codemirror_mode": {
    "name": "ipython",
    "version": 3
   },
   "file_extension": ".py",
   "mimetype": "text/x-python",
   "name": "python",
   "nbconvert_exporter": "python",
   "pygments_lexer": "ipython3",
   "version": "3.7.13"
  }
 },
 "nbformat": 4,
 "nbformat_minor": 5
}
